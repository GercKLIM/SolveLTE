{
 "cells": [
  {
   "cell_type": "code",
   "execution_count": 30,
   "metadata": {},
   "outputs": [
    {
     "name": "stdout",
     "output_type": "stream",
     "text": [
      "2.15.0\n",
      "Доступные устройства GPU:\n",
      "PhysicalDevice(name='/physical_device:CPU:0', device_type='CPU')\n"
     ]
    }
   ],
   "source": [
    "# Проверка работоспособности системы\n",
    "import os\n",
    "import numpy as np\n",
    "import matplotlib.pyplot as plt\n",
    "import tensorflow as tf\n",
    "from tensorflow.keras.models import Sequential\n",
    "from tensorflow.keras.layers import Conv2D, MaxPooling2D, Flatten, Dense\n",
    "from tensorflow.keras.preprocessing.image import load_img, img_to_array\n",
    "from PIL import Image\n",
    "print(tf.__version__)\n",
    "\n",
    "# Проверка подключения графического процессора\n",
    "print(\"Доступные устройства GPU:\")\n",
    "for device in tf.config.experimental.list_physical_devices('CPU'):\n",
    "    print(device)\n",
    "\n",
    "os.environ['PROTOCOL_BUFFERS_PYTHON_IMPLEMENTATION'] = 'python'"
   ]
  },
  {
   "cell_type": "code",
   "execution_count": 31,
   "metadata": {},
   "outputs": [],
   "source": [
    "# Создание датасета для обучения\n",
    "\n",
    "# Функции загрузки и предобработки к каждому элементу датасета\n",
    "def load_and_preprocess_train_image(image_path, label):\n",
    "        img = tf.io.read_file(image_path)\n",
    "        img = tf.image.decode_png(img, channels=1)  # Черно-белые изображения\n",
    "        img = tf.image.resize(img, [128, 128])\n",
    "        img = tf.image.convert_image_dtype(img, tf.float32)\n",
    "        return img, label\n",
    "\n",
    "\n",
    "\n",
    "# Функция, которая создает датасет из папки с изображениями\n",
    "def import_train_data(image_dir):\n",
    "    # Получение списка файлов с изображениями\n",
    "    image_files = []\n",
    "    for papka in os.listdir(image_dir):\n",
    "        papka_dir = os.path.join(image_dir, papka)\n",
    "        if os.path.isdir(papka_dir):\n",
    "            for file in os.listdir(papka_dir):\n",
    "                if file.endswith('.png'):\n",
    "                    image_files.append(os.path.join(papka_dir, file))\n",
    "\n",
    "   \n",
    "    print(\"Количество изображений:\",len(image_files))\n",
    "   \n",
    "    # Создание списка меток \n",
    "    labels = []\n",
    "    dict_labels = dict()\n",
    "    for i in range(0, len(image_files)):\n",
    "         # Создание индекса графика\n",
    "        #label = tuple(((image_files[i].split('.png')[0]).split(\"\\\\\")[1]).split('_'))\n",
    "        label = tuple(image_files[i].split(\"\\\\\"))\n",
    "        labels.append(i)\n",
    "        dict_labels[label] = i\n",
    "\n",
    "    print(dict_labels)\n",
    "    print(\"Количество меток:\",len(set(labels)))\n",
    "    print(\"Распределение меток:\",labels)\n",
    "\n",
    "    # Создание датасета с использованием tf.data.Dataset.from_tensor_slices\n",
    "    dataset = tf.data.Dataset.from_tensor_slices((image_files, labels))\n",
    "    # Применение функции загрузки и предобработки к каждому элементу датасета\n",
    "    dataset = dataset.map(load_and_preprocess_train_image)\n",
    "    \n",
    "    return dataset, dict_labels, len(dict_labels)"
   ]
  },
  {
   "cell_type": "code",
   "execution_count": 32,
   "metadata": {},
   "outputs": [
    {
     "name": "stdout",
     "output_type": "stream",
     "text": [
      "Количество изображений: 45\n",
      "{('dataset_№1/train/test1', 'test1_0.png'): 0, ('dataset_№1/train/test1', 'test1_1.png'): 1, ('dataset_№1/train/test1', 'test1_10.png'): 2, ('dataset_№1/train/test1', 'test1_2.png'): 3, ('dataset_№1/train/test1', 'test1_3.png'): 4, ('dataset_№1/train/test1', 'test1_4.png'): 5, ('dataset_№1/train/test1', 'test1_5.png'): 6, ('dataset_№1/train/test1', 'test1_6.png'): 7, ('dataset_№1/train/test1', 'test1_7.png'): 8, ('dataset_№1/train/test1', 'test1_8.png'): 9, ('dataset_№1/train/test1', 'test1_9.png'): 10, ('dataset_№1/train/test2', 'test2_0.png'): 11, ('dataset_№1/train/test2', 'test2_1.png'): 12, ('dataset_№1/train/test2', 'test2_10.png'): 13, ('dataset_№1/train/test2', 'test2_2.png'): 14, ('dataset_№1/train/test2', 'test2_3.png'): 15, ('dataset_№1/train/test2', 'test2_4.png'): 16, ('dataset_№1/train/test2', 'test2_5.png'): 17, ('dataset_№1/train/test2', 'test2_6.png'): 18, ('dataset_№1/train/test2', 'test2_7.png'): 19, ('dataset_№1/train/test2', 'test2_8.png'): 20, ('dataset_№1/train/test2', 'test2_9.png'): 21, ('dataset_№1/train/test3', 'test3_0.png'): 22, ('dataset_№1/train/test4', 'test4_0.png'): 23, ('dataset_№1/train/test4', 'test4_1.png'): 24, ('dataset_№1/train/test4', 'test4_10.png'): 25, ('dataset_№1/train/test4', 'test4_2.png'): 26, ('dataset_№1/train/test4', 'test4_3.png'): 27, ('dataset_№1/train/test4', 'test4_4.png'): 28, ('dataset_№1/train/test4', 'test4_5.png'): 29, ('dataset_№1/train/test4', 'test4_6.png'): 30, ('dataset_№1/train/test4', 'test4_7.png'): 31, ('dataset_№1/train/test4', 'test4_8.png'): 32, ('dataset_№1/train/test4', 'test4_9.png'): 33, ('dataset_№1/train/test5', 'test5_0.png'): 34, ('dataset_№1/train/test5', 'test5_1.png'): 35, ('dataset_№1/train/test5', 'test5_10.png'): 36, ('dataset_№1/train/test5', 'test5_2.png'): 37, ('dataset_№1/train/test5', 'test5_3.png'): 38, ('dataset_№1/train/test5', 'test5_4.png'): 39, ('dataset_№1/train/test5', 'test5_5.png'): 40, ('dataset_№1/train/test5', 'test5_6.png'): 41, ('dataset_№1/train/test5', 'test5_7.png'): 42, ('dataset_№1/train/test5', 'test5_8.png'): 43, ('dataset_№1/train/test5', 'test5_9.png'): 44}\n",
      "Количество меток: 45\n",
      "Распределение меток: [0, 1, 2, 3, 4, 5, 6, 7, 8, 9, 10, 11, 12, 13, 14, 15, 16, 17, 18, 19, 20, 21, 22, 23, 24, 25, 26, 27, 28, 29, 30, 31, 32, 33, 34, 35, 36, 37, 38, 39, 40, 41, 42, 43, 44]\n",
      "Кодификатор: {('dataset_№1/train/test1', 'test1_0.png'): 0, ('dataset_№1/train/test1', 'test1_1.png'): 1, ('dataset_№1/train/test1', 'test1_10.png'): 2, ('dataset_№1/train/test1', 'test1_2.png'): 3, ('dataset_№1/train/test1', 'test1_3.png'): 4, ('dataset_№1/train/test1', 'test1_4.png'): 5, ('dataset_№1/train/test1', 'test1_5.png'): 6, ('dataset_№1/train/test1', 'test1_6.png'): 7, ('dataset_№1/train/test1', 'test1_7.png'): 8, ('dataset_№1/train/test1', 'test1_8.png'): 9, ('dataset_№1/train/test1', 'test1_9.png'): 10, ('dataset_№1/train/test2', 'test2_0.png'): 11, ('dataset_№1/train/test2', 'test2_1.png'): 12, ('dataset_№1/train/test2', 'test2_10.png'): 13, ('dataset_№1/train/test2', 'test2_2.png'): 14, ('dataset_№1/train/test2', 'test2_3.png'): 15, ('dataset_№1/train/test2', 'test2_4.png'): 16, ('dataset_№1/train/test2', 'test2_5.png'): 17, ('dataset_№1/train/test2', 'test2_6.png'): 18, ('dataset_№1/train/test2', 'test2_7.png'): 19, ('dataset_№1/train/test2', 'test2_8.png'): 20, ('dataset_№1/train/test2', 'test2_9.png'): 21, ('dataset_№1/train/test3', 'test3_0.png'): 22, ('dataset_№1/train/test4', 'test4_0.png'): 23, ('dataset_№1/train/test4', 'test4_1.png'): 24, ('dataset_№1/train/test4', 'test4_10.png'): 25, ('dataset_№1/train/test4', 'test4_2.png'): 26, ('dataset_№1/train/test4', 'test4_3.png'): 27, ('dataset_№1/train/test4', 'test4_4.png'): 28, ('dataset_№1/train/test4', 'test4_5.png'): 29, ('dataset_№1/train/test4', 'test4_6.png'): 30, ('dataset_№1/train/test4', 'test4_7.png'): 31, ('dataset_№1/train/test4', 'test4_8.png'): 32, ('dataset_№1/train/test4', 'test4_9.png'): 33, ('dataset_№1/train/test5', 'test5_0.png'): 34, ('dataset_№1/train/test5', 'test5_1.png'): 35, ('dataset_№1/train/test5', 'test5_10.png'): 36, ('dataset_№1/train/test5', 'test5_2.png'): 37, ('dataset_№1/train/test5', 'test5_3.png'): 38, ('dataset_№1/train/test5', 'test5_4.png'): 39, ('dataset_№1/train/test5', 'test5_5.png'): 40, ('dataset_№1/train/test5', 'test5_6.png'): 41, ('dataset_№1/train/test5', 'test5_7.png'): 42, ('dataset_№1/train/test5', 'test5_8.png'): 43, ('dataset_№1/train/test5', 'test5_9.png'): 44}\n",
      "Длина кодификатора: 45\n",
      "Количество классов:  45\n"
     ]
    }
   ],
   "source": [
    "# Путь к папке с изображениями для обучения\n",
    "train_image_dir = 'dataset_№1/train/'\n",
    "\n",
    "\n",
    "train_dataset, train_kodificator, output_classes = import_train_data(train_image_dir)\n",
    "\n",
    "batch_size = 1  # Количество изображений подаваемых нейросети за одну итерацию обучения\n",
    "train_dataset = train_dataset.batch(batch_size)\n",
    "print(\"Кодификатор:\", train_kodificator)\n",
    "print(\"Длина кодификатора:\", len(train_kodificator))\n",
    "print(\"Количество классов: \", output_classes)"
   ]
  },
  {
   "cell_type": "code",
   "execution_count": 33,
   "metadata": {},
   "outputs": [
    {
     "name": "stdout",
     "output_type": "stream",
     "text": [
      "WARNING:tensorflow:From c:\\Users\\gerce\\AppData\\Local\\Programs\\Python\\Python39\\lib\\site-packages\\keras\\src\\backend.py:873: The name tf.get_default_graph is deprecated. Please use tf.compat.v1.get_default_graph instead.\n",
      "\n",
      "WARNING:tensorflow:From c:\\Users\\gerce\\AppData\\Local\\Programs\\Python\\Python39\\lib\\site-packages\\keras\\src\\layers\\pooling\\max_pooling2d.py:161: The name tf.nn.max_pool is deprecated. Please use tf.nn.max_pool2d instead.\n",
      "\n",
      "WARNING:tensorflow:From c:\\Users\\gerce\\AppData\\Local\\Programs\\Python\\Python39\\lib\\site-packages\\keras\\src\\optimizers\\__init__.py:309: The name tf.train.Optimizer is deprecated. Please use tf.compat.v1.train.Optimizer instead.\n",
      "\n",
      "Model: \"sequential\"\n",
      "_________________________________________________________________\n",
      " Layer (type)                Output Shape              Param #   \n",
      "=================================================================\n",
      " conv2d (Conv2D)             (None, 125, 125, 32)      544       \n",
      "                                                                 \n",
      " max_pooling2d (MaxPooling2  (None, 31, 31, 32)        0         \n",
      " D)                                                              \n",
      "                                                                 \n",
      " conv2d_1 (Conv2D)           (None, 30, 30, 64)        8256      \n",
      "                                                                 \n",
      " max_pooling2d_1 (MaxPoolin  (None, 15, 15, 64)        0         \n",
      " g2D)                                                            \n",
      "                                                                 \n",
      " flatten (Flatten)           (None, 14400)             0         \n",
      "                                                                 \n",
      " dense (Dense)               (None, 150)               2160150   \n",
      "                                                                 \n",
      " dense_1 (Dense)             (None, 45)                6795      \n",
      "                                                                 \n",
      "=================================================================\n",
      "Total params: 2175745 (8.30 MB)\n",
      "Trainable params: 2175745 (8.30 MB)\n",
      "Non-trainable params: 0 (0.00 Byte)\n",
      "_________________________________________________________________\n"
     ]
    }
   ],
   "source": [
    "# Создание модели\n",
    "model = Sequential()\n",
    "\n",
    "# Первый сверточный слой\n",
    "model.add(Conv2D(32, (4, 4), activation='relu', input_shape=(128, 128, 1)))\n",
    "\n",
    "# Пулинг для уменьшения размера\n",
    "model.add(MaxPooling2D(pool_size=(4, 4)))\n",
    "\n",
    "# Второй сверточный слой\n",
    "model.add(Conv2D(64, (2, 2), activation='relu'))\n",
    "\n",
    "# Пулинг для уменьшения размера\n",
    "model.add(MaxPooling2D(pool_size=(2, 2)))\n",
    "\n",
    "# Спец. слой, который переводит матрицу в вектор\n",
    "model.add(Flatten())\n",
    "\n",
    "# Полносвязный слой\n",
    "model.add(Dense(150, activation='relu'))\n",
    "\n",
    "# Выходной слой с нейронами (по одному для каждого класса) и softmax активацией\n",
    "model.add(Dense(output_classes, activation='softmax'))\n",
    "\n",
    "model.compile(optimizer='adam', loss='sparse_categorical_crossentropy', metrics=['accuracy'])\n",
    "\n",
    "model.summary()"
   ]
  },
  {
   "cell_type": "code",
   "execution_count": 43,
   "metadata": {},
   "outputs": [
    {
     "name": "stdout",
     "output_type": "stream",
     "text": [
      "Epoch 1/3\n",
      "45/45 [==============================] - 1s 25ms/step - loss: 0.7179 - accuracy: 0.8889 - val_loss: 0.4099 - val_accuracy: 0.9556\n",
      "Epoch 2/3\n",
      "45/45 [==============================] - 1s 24ms/step - loss: 0.2381 - accuracy: 0.9556 - val_loss: 0.0772 - val_accuracy: 1.0000\n",
      "Epoch 3/3\n",
      "45/45 [==============================] - 1s 25ms/step - loss: 0.1070 - accuracy: 1.0000 - val_loss: 0.0045 - val_accuracy: 1.0000\n"
     ]
    }
   ],
   "source": [
    "history = model.fit(train_dataset, epochs=3, validation_data=train_dataset)"
   ]
  },
  {
   "cell_type": "code",
   "execution_count": 44,
   "metadata": {},
   "outputs": [
    {
     "name": "stdout",
     "output_type": "stream",
     "text": [
      "45/45 [==============================] - 0s 4ms/step - loss: 0.0045 - accuracy: 1.0000\n",
      "Точность нейросети: 100.0\n"
     ]
    }
   ],
   "source": [
    "test_loss, test_accuracy = model.evaluate(train_dataset)\n",
    "print ('Точность нейросети:', test_accuracy*100)"
   ]
  },
  {
   "cell_type": "code",
   "execution_count": 79,
   "metadata": {},
   "outputs": [],
   "source": [
    "# ПРЕДСКАЗАНИЕ СЕТИ\n",
    "import matplotlib.image as mpimg\n",
    "\n",
    "def load_and_preprocess_image(image_path):\n",
    "    img = tf.io.read_file(image_path)\n",
    "    img = tf.image.decode_png(img, channels=1)  # Черно-белые изображения\n",
    "    img = tf.image.resize(img, [128, 128])\n",
    "    img = tf.image.convert_image_dtype(img, tf.float32)\n",
    "    img = tf.expand_dims(img, axis=0)  # Создание батча из одного изображения\n",
    "    return img\n",
    "\n",
    "def SwapDict(dict):\n",
    "        return {v: k for k, v in dict.items()}\n",
    "\n",
    "def show_my_img(path, title):\n",
    "    img = mpimg.imread(path)\n",
    "    plt.imshow(img)\n",
    "    plt.title(title)\n",
    "    plt.axis('off')  # Отключение осей координат\n",
    "    plt.show()\n",
    "\n",
    "def predict_image(img_path):\n",
    "\n",
    "    # Пример пути к новому изображению\n",
    "    img = load_and_preprocess_image(img_path)\n",
    "\n",
    "\n",
    "    # Получение предсказания\n",
    "    predictions = model.predict(img)\n",
    "\n",
    "    # Определение класса с наибольшей вероятностью\n",
    "    predicted_class = tf.argmax(predictions, axis=1).numpy()[0]\n",
    "    print('Predicted class:', predicted_class)\n",
    "\n",
    "    train_kodificator_swap = SwapDict(train_kodificator)\n",
    "    print(\"Predicted img: \", train_kodificator_swap[predicted_class])\n",
    "    print(train_kodificator_swap[predicted_class][0] + '/' + train_kodificator_swap[predicted_class][1])\n",
    "    show_my_img(train_kodificator_swap[predicted_class][0] + '/' + train_kodificator_swap[predicted_class][1], \"Предсказание сети\")\n"
   ]
  },
  {
   "cell_type": "code",
   "execution_count": 81,
   "metadata": {},
   "outputs": [
    {
     "name": "stdout",
     "output_type": "stream",
     "text": [
      "1/1 [==============================] - 0s 34ms/step\n",
      "Predicted class: 39\n",
      "Predicted img:  ('dataset_№1/train/test5', 'test5_4.png')\n",
      "dataset_№1/train/test5/test5_4.png\n"
     ]
    },
    {
     "data": {
      "image/png": "[encoded data removed]",
      "text/plain": [
       "<Figure size 640x480 with 1 Axes>"
      ]
     },
     "metadata": {},
     "output_type": "display_data"
    },
    {
     "data": {
      "image/png": "[encoded data removed]",
      "text/plain": [
       "<Figure size 640x480 with 1 Axes>"
      ]
     },
     "metadata": {},
     "output_type": "display_data"
    }
   ],
   "source": [
    "img_path = 'dataset_№1/train/test5/test5_4.png'\n",
    "predict_image(img_path)\n",
    "show_my_img(img_path, \"Исходное изображение\")"
   ]
  }
 ],
 "metadata": {
  "kernelspec": {
   "display_name": "Python 3",
   "language": "python",
   "name": "python3"
  },
  "language_info": {
   "codemirror_mode": {
    "name": "ipython",
    "version": 3
   },
   "file_extension": ".py",
   "mimetype": "text/x-python",
   "name": "python",
   "nbconvert_exporter": "python",
   "pygments_lexer": "ipython3",
   "version": "3.9.2"
  }
 },
 "nbformat": 4,
 "nbformat_minor": 2
}
